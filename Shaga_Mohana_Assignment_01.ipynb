{
  "cells": [
    {
      "cell_type": "markdown",
      "metadata": {
        "id": "view-in-github",
        "colab_type": "text"
      },
      "source": [
        "<a href=\"https://colab.research.google.com/github/MohanaSrinitha/Mohana_INF05731_Spring204/blob/main/Shaga_Mohana_Assignment_01.ipynb\" target=\"_parent\"><img src=\"https://colab.research.google.com/assets/colab-badge.svg\" alt=\"Open In Colab\"/></a>"
      ]
    },
    {
      "cell_type": "markdown",
      "metadata": {
        "id": "Ryk8D1Q4Wsrp"
      },
      "source": [
        "# **INFO5731 Assignment One**"
      ]
    },
    {
      "cell_type": "markdown",
      "source": [
        "This assignment includes range of programming tasks and data analysis exercises, aiming to enhance your Python skills and proficiency in string manipulation, numerical computations, and data science. Follow the instructions carefully and design well-structured Python programs to address each question.\n",
        "\n",
        "Late Submission will have a penalty of 10% reduction for each day after the deadline."
      ],
      "metadata": {
        "id": "qcP6re2g5A5r"
      }
    },
    {
      "cell_type": "markdown",
      "metadata": {
        "id": "JkzR8cFAyGik"
      },
      "source": [
        "# Question 1 (10 points).\n",
        "\n",
        "The formula that describes the volume V of a hemisphere with radius r is the following:\n",
        "\n",
        "$ V=\\frac{2}{3}\\ast\\ \\pi\\ast\\ r^3 $\n",
        "\n",
        "Write a program to calculate the value of V when r is in the range of even numbers from 1-20. Output the result in the following format:\n",
        "\n",
        "\tr\tV\n",
        "\t2\t…\n",
        "\t4\t…\n",
        "\t6\t…\n",
        "\t.\n",
        "\t.\n",
        "\t.\n",
        "\t20\t…\n"
      ]
    },
    {
      "cell_type": "code",
      "execution_count": null,
      "metadata": {
        "id": "jDyTKYs-yGit",
        "colab": {
          "base_uri": "https://localhost:8080/"
        },
        "outputId": "543c8ba6-aa1b-4f0e-e1c5-1ec9b3a35ebb"
      },
      "outputs": [
        {
          "output_type": "stream",
          "name": "stdout",
          "text": [
            "r\tV\n",
            "2\t16.76\n",
            "4\t134.04\n",
            "6\t452.39\n",
            "8\t1072.33\n",
            "10\t2094.40\n",
            "12\t3619.11\n",
            "14\t5747.02\n",
            "16\t8578.64\n",
            "18\t12214.51\n",
            "20\t16755.16\n"
          ]
        }
      ],
      "source": [
        "# Your code here\n",
        "import math\n",
        "\n",
        "# Formula to calculate\n",
        "def calFormula(r):\n",
        "    return (2/3) * math.pi * r**3\n",
        "\n",
        "print(f\"r\\tV\")\n",
        "for r in range(2, 21, 2):\n",
        "    V = calFormula(r)\n",
        "    print(f\"{r}\\t{V:.2f}\")\n"
      ]
    },
    {
      "cell_type": "code",
      "source": [],
      "metadata": {
        "id": "w6zdqBJRVIPT"
      },
      "execution_count": null,
      "outputs": []
    },
    {
      "cell_type": "markdown",
      "metadata": {
        "id": "90_NR8c5XGWc"
      },
      "source": [
        "# Question 2 (20 points)\n",
        "\n",
        "(a) Write a Python program to generate a sequence of 12 random numbers falling within the range of 50 to 150.\n",
        "\n",
        "(b) Arrange the generated numbers in ascending order. Display the sorted list.\n",
        "\n",
        "(c) Extend the program to arrange the numbers in descending order as well. Present the sorted list accordingly.\n",
        "\n",
        "(d) Compute and output the average of the entire group of generated numbers.\n",
        "\n",
        "(e) Enhance the program to calculate and display the average of the first 6 numbers from both the ascending and descending sorted lists."
      ]
    },
    {
      "cell_type": "code",
      "execution_count": null,
      "metadata": {
        "id": "5QX6bJjGWXY9",
        "colab": {
          "base_uri": "https://localhost:8080/"
        },
        "outputId": "bb8cc6a0-1f1b-4c6f-99ea-9d585bf4db40"
      },
      "outputs": [
        {
          "output_type": "stream",
          "name": "stdout",
          "text": [
            "[80, 121, 112, 148, 133, 142, 55, 91, 99, 142, 126, 149]\n"
          ]
        }
      ],
      "source": [
        "# Write code for each of the sub parts with proper comments.\n",
        "# a)\n",
        "import random\n",
        "\n",
        "Nums = [random.randint(50, 150) for _ in range(12)]\n",
        "print(Nums)\n"
      ]
    },
    {
      "cell_type": "code",
      "source": [
        "# b)\n",
        "list1 = sorted(Nums)\n",
        "print(sorted(Nums))"
      ],
      "metadata": {
        "colab": {
          "base_uri": "https://localhost:8080/"
        },
        "id": "BgueYLBfpn7J",
        "outputId": "4f399742-0e58-44b7-c445-2eb2bb95c1bc"
      },
      "execution_count": null,
      "outputs": [
        {
          "output_type": "stream",
          "name": "stdout",
          "text": [
            "[55, 80, 91, 99, 112, 121, 126, 133, 142, 142, 148, 149]\n"
          ]
        }
      ]
    },
    {
      "cell_type": "code",
      "source": [
        "# c)\n",
        "list2 = sorted(Nums, reverse=True)\n",
        "print(sorted(Nums, reverse=True))"
      ],
      "metadata": {
        "colab": {
          "base_uri": "https://localhost:8080/"
        },
        "id": "P03t-PNwp2S4",
        "outputId": "54c42fd4-2540-45c4-8814-e8f8bd6d65ec"
      },
      "execution_count": null,
      "outputs": [
        {
          "output_type": "stream",
          "name": "stdout",
          "text": [
            "[149, 148, 142, 142, 133, 126, 121, 112, 99, 91, 80, 55]\n"
          ]
        }
      ]
    },
    {
      "cell_type": "code",
      "source": [
        "# d)\n",
        "average = sum(Nums) / len(Nums)\n",
        "# Print the average\n",
        "print(\"Average:\", average)"
      ],
      "metadata": {
        "colab": {
          "base_uri": "https://localhost:8080/"
        },
        "id": "uDOtZhYmqNhk",
        "outputId": "f85f0689-e075-46ed-8c51-f13b7760a7e4"
      },
      "execution_count": null,
      "outputs": [
        {
          "output_type": "stream",
          "name": "stdout",
          "text": [
            "Average: 116.5\n"
          ]
        }
      ]
    },
    {
      "cell_type": "code",
      "source": [
        "# e)\n",
        "list1 = {sum(list1[:6]) / 6}\n",
        "list2 = {sum(list2[:6]) / 6}\n",
        "print(\"Average of the first 6 numbers in ascending order:\", list1)\n",
        "print(\"Average of the first 6 numbers in descending order:\", list2)"
      ],
      "metadata": {
        "colab": {
          "base_uri": "https://localhost:8080/"
        },
        "id": "BhxkirzMqNsv",
        "outputId": "1f4ef28f-7161-460b-d768-4f7b16558a59"
      },
      "execution_count": null,
      "outputs": [
        {
          "output_type": "stream",
          "name": "stdout",
          "text": [
            "Average of the first 6 numbers in ascending order: {93.0}\n",
            "Average of the first 6 numbers in descending order: {140.0}\n"
          ]
        }
      ]
    },
    {
      "cell_type": "markdown",
      "metadata": {
        "id": "1F_PZdH9Sh49"
      },
      "source": [
        "# Question 3 (20 points).\n",
        "\n",
        "Create a Python program that encompasses various string manipulation task:\n",
        "\n",
        "(a) Prompt the user to input two sentences.\n",
        "\n",
        "(b) Transform each sentence into a list, where each element corresponds to a word in the sentence. For example, if the sentences are \"Hello, how are you doing today?\" and \"This is an example sentence for the program!\"\n",
        "\n",
        "The program should output:\n",
        "['Hello', ',', 'how', 'are', 'you', 'doing', 'today', '?', 'This', 'is', 'an', 'example', 'sentence', 'for', 'the', 'program', '!']\n",
        "\n",
        "(c) Compare the two sentences. Print out a list of words that occur in both sentences.\n",
        "\n",
        "(d) Remove any punctuation from the sentence and print the sanitized sentences. It should remove at least the following characters, but it can remove more: period(“.”), comma (“,”), semicolon (“;”), and colon (“:”).\n",
        "\n",
        "(e) Count the number of vowels in each of the sentences. Print out each vowel and the occurrences  in the each of the two sentences separately, such as:\n",
        "\n",
        "Sentence1: a:2, e:2, i:0, etc.\n",
        "Sentence2: a:1, e:2, i:2, etc.\n",
        "\n",
        "Design a well-structured Python program to execute these tasks efficiently."
      ]
    },
    {
      "cell_type": "code",
      "execution_count": null,
      "metadata": {
        "id": "Y0oOSlsOS0cq",
        "colab": {
          "base_uri": "https://localhost:8080/"
        },
        "outputId": "7fbc1594-805d-4fc0-fc0b-bedd4407b707"
      },
      "outputs": [
        {
          "name": "stdout",
          "output_type": "stream",
          "text": [
            "Enter your first sentence: hey, how are you?\n",
            "Enter your second sentence: hey, I'm doing good!\n"
          ]
        }
      ],
      "source": [
        "# Your code here\n",
        "# a)\n",
        "sentence1 = input(\"Enter your first sentence: \")\n",
        "sentence2 = input(\"Enter your second sentence: \")\n"
      ]
    },
    {
      "cell_type": "code",
      "source": [
        "# b)\n",
        "import re\n",
        "\n",
        "def splitSen(sentence):\n",
        "    # Use regular expression to separate words\n",
        "    words = re.findall(r'\\b\\w+\\b|\\W', sentence)\n",
        "    words = [item for item in words if item != ' ']\n",
        "    return words\n",
        "\n",
        "list1 = splitSen(sentence1)\n",
        "#list1 = [item for item in list1 if item != \" \"]\n",
        "print(list1)\n",
        "list2 = splitSen(sentence2)\n",
        "print(list2)"
      ],
      "metadata": {
        "colab": {
          "base_uri": "https://localhost:8080/"
        },
        "id": "uj-CV2VwsKp0",
        "outputId": "444a1d05-e31d-420c-8d6a-8a4917a7a69e"
      },
      "execution_count": null,
      "outputs": [
        {
          "output_type": "stream",
          "name": "stdout",
          "text": [
            "['hey', ',', 'how', 'are', 'you', '?']\n",
            "['hey', ',', 'I', \"'\", 'm', 'doing', 'good', '!']\n"
          ]
        }
      ]
    },
    {
      "cell_type": "code",
      "source": [
        "# c)\n",
        "common_words = list(set(list1) & set(list2))\n",
        "print(common_words)"
      ],
      "metadata": {
        "colab": {
          "base_uri": "https://localhost:8080/"
        },
        "id": "D-cenh2wsKsX",
        "outputId": "8268d085-208d-4c0f-9db9-d0a17d5bf02f"
      },
      "execution_count": null,
      "outputs": [
        {
          "output_type": "stream",
          "name": "stdout",
          "text": [
            "[',', 'hey']\n"
          ]
        }
      ]
    },
    {
      "cell_type": "code",
      "source": [
        "# d)\n",
        "\n",
        "# initializing punctuations string\n",
        "punc = '''!;:'\"\\,./?*_~'''\n",
        "\n",
        "# Removing punctuations\n",
        "for ele in sentence1:\n",
        "    if ele in punc:\n",
        "        sentence1 = sentence1.replace(ele, \"\")\n",
        "for ele1 in sentence2:\n",
        "    if ele1 in punc:\n",
        "        sentence2 = sentence2.replace(ele1, \"\")\n",
        "\n",
        "print(\"Sentence after removing punctuation: \" + sentence1)\n",
        "print(\"Sentence after removing punctuation: \" + sentence2)"
      ],
      "metadata": {
        "colab": {
          "base_uri": "https://localhost:8080/"
        },
        "id": "4sgEdTh-sKyJ",
        "outputId": "5c68aa0f-baa0-46a7-ffaf-c4bef861fa0b"
      },
      "execution_count": null,
      "outputs": [
        {
          "output_type": "stream",
          "name": "stdout",
          "text": [
            "Sentence after removing punctuation: hey how are you\n",
            "Sentence after removing punctuation: hey Im doing good\n"
          ]
        }
      ]
    },
    {
      "cell_type": "code",
      "source": [
        "# e)\n",
        "def vowels(sentence):\n",
        "    vowels = \"aeiou\"\n",
        "    count = {vowel: 0 for vowel in vowels}\n",
        "    for char in sentence:\n",
        "        if char in vowels:\n",
        "            count[char] += 1\n",
        "    return count\n",
        "\n",
        "count1 = vowels(sentence1.lower()) # checking for vowels in the lowercase sentence\n",
        "count2 = vowels(sentence2.lower())\n",
        "print(f\"Sentence1: {', '.join([f'{vowel}:{count}' for vowel, count in count1.items()])}\")\n",
        "print(f\"Sentence2: {', '.join([f'{vowel}:{count}' for vowel, count in count2.items()])}\")"
      ],
      "metadata": {
        "colab": {
          "base_uri": "https://localhost:8080/"
        },
        "id": "4Ks2ce180hQS",
        "outputId": "42532d03-ef27-425f-eea7-5deb6abe91a2"
      },
      "execution_count": null,
      "outputs": [
        {
          "output_type": "stream",
          "name": "stdout",
          "text": [
            "Sentence1: a:1, e:2, i:0, o:2, u:1\n",
            "Sentence2: a:0, e:1, i:2, o:3, u:0\n"
          ]
        }
      ]
    },
    {
      "cell_type": "markdown",
      "source": [
        "# Question 4 (20 Points)"
      ],
      "metadata": {
        "id": "OP4-5qxAtInv"
      }
    },
    {
      "cell_type": "markdown",
      "source": [
        "Design and implement a simple command-line calculator program. The program should handle both integers and floating-point numbers.\n",
        "\n",
        "(a) Write program that takes a mathematical expression as input and evaluates it. The program should support addition, subtraction, multiplication, and division.\n",
        "\n",
        "(b) Extend the calculator to handle parentheses in mathematical expressions. Implement the necessary logic to evaluate expressions with nested parentheses.\n",
        "\n",
        "(c) Enhance your calculator to include additional mathematical operations such as exponentiation, square root, and modulus.\n",
        "\n",
        "(d) Implement error handling in the calculator program. Handle cases such as division by zero and invalid input expressions. Provide meaningful error messages.\n",
        "\n",
        "(e) Implement a command to exit the calculator."
      ],
      "metadata": {
        "id": "uzN4_hDptK9U"
      }
    },
    {
      "cell_type": "code",
      "source": [
        "from __future__ import division\n",
        "from pyparsing import (Literal, CaselessLiteral, Word, Combine, Group, Optional,\n",
        "                       ZeroOrMore, Forward, nums, alphas, oneOf)\n",
        "import math\n",
        "import operator\n",
        "\n",
        "\n",
        "class MathExpression(object):\n",
        "\n",
        "    def pushFirst(self, strg, loc, toks):\n",
        "        self.exprStack.append(toks[0])\n",
        "\n",
        "    def pushUMinus(self, strg, loc, toks):\n",
        "        if toks and toks[0] == '-':\n",
        "            self.exprStack.append('unary -')\n",
        "\n",
        "    def __init__(self):\n",
        "        point = Literal(\".\")\n",
        "        fnumber = Combine(Word(\"+-\" + nums, nums) +\n",
        "                          Optional(point + Optional(Word(nums))))\n",
        "        ident = Word(alphas, alphas + nums + \"_$\")\n",
        "        plus = Literal(\"+\")\n",
        "        minus = Literal(\"-\")\n",
        "        mult = Literal(\"*\")\n",
        "        div = Literal(\"/\")\n",
        "        lpar = Literal(\"(\").suppress()\n",
        "        rpar = Literal(\")\").suppress()\n",
        "        addop = plus | minus\n",
        "        multop = mult | div\n",
        "        expop = Literal(\"^\")\n",
        "        mod = Literal(\"%\")\n",
        "        expr = Forward()\n",
        "        atom = ((Optional(oneOf(\"- +\")) +\n",
        "                 (ident + lpar + expr + rpar | fnumber).setParseAction(self.pushFirst))\n",
        "                | Optional(oneOf(\"- +\")) + Group(lpar + expr + rpar)\n",
        "                ).setParseAction(self.pushUMinus)\n",
        "        factor = Forward()\n",
        "        factor << atom + \\\n",
        "            ZeroOrMore((expop + factor).setParseAction(self.pushFirst))\n",
        "        term = factor + \\\n",
        "            ZeroOrMore((multop + factor).setParseAction(self.pushFirst))\n",
        "        expr << term + \\\n",
        "            ZeroOrMore((addop + term).setParseAction(self.pushFirst))\n",
        "        self.bnf = expr\n",
        "        # map operator symbols to corresponding arithmetic operations\n",
        "\n",
        "        self.opn = {\"+\": operator.add,\n",
        "                    \"-\": operator.sub,\n",
        "                    \"*\": operator.mul,\n",
        "                    \"/\": operator.truediv,\n",
        "                    \"^\": operator.pow,\n",
        "                    \"%\": operator.mod}\n",
        "        self.fn = {\n",
        "                   \"exp\": math.exp,\n",
        "                   \"sqrt\": math.sqrt,\n",
        "                   \"mod\": math.modf\n",
        "                   }\n",
        "\n",
        "    def evaluateStack(self, s):\n",
        "        op = s.pop()\n",
        "        if op == 'unary -':\n",
        "            return -self.evaluateStack(s)\n",
        "        if op in \"+-*/^%\":\n",
        "            op2 = self.evaluateStack(s)\n",
        "            op1 = self.evaluateStack(s)\n",
        "            return self.opn[op](op1, op2)\n",
        "        elif op in self.fn:\n",
        "            return self.fn[op](self.evaluateStack(s))\n",
        "        elif op[0].isalpha():\n",
        "            return 0\n",
        "        else:\n",
        "            return float(op)\n",
        "\n",
        "    def calculate(self, num_string, parseAll=True):\n",
        "      try:\n",
        "        self.exprStack = []\n",
        "        results = self.bnf.parseString(num_string, parseAll)\n",
        "        val = self.evaluateStack(self.exprStack[:])\n",
        "        return val\n",
        "      except ZeroDivisionError:\n",
        "          return \"Error: Division by zero not allowed\"\n",
        "      except SyntaxError:\n",
        "          return \"Error: Invalid expression! Enter valid expression\"\n",
        "\n",
        "\n"
      ],
      "metadata": {
        "id": "69x0bkojYMLF"
      },
      "execution_count": null,
      "outputs": []
    },
    {
      "cell_type": "code",
      "source": [
        "def main():\n",
        "    print(\"Command-Line Calculator\")\n",
        "    print(\"Type 'exit' to quit\")\n",
        "\n",
        "    while True:\n",
        "        user_input = input(\"Enter your expression: \")\n",
        "\n",
        "        if user_input.lower() == 'exit':\n",
        "            print(\"Exiting. Goodbye!\")\n",
        "            break\n",
        "\n",
        "        me = MathExpression()\n",
        "        result = me.calculate(user_input)\n",
        "        print(\"Result:\", result)\n",
        "\n",
        "if __name__ == \"__main__\":\n",
        "    main()\n",
        "\n"
      ],
      "metadata": {
        "colab": {
          "base_uri": "https://localhost:8080/"
        },
        "id": "mJOthDyqZLpM",
        "outputId": "187b3c31-4285-418f-8795-ee24568ee0ea"
      },
      "execution_count": null,
      "outputs": [
        {
          "output_type": "stream",
          "name": "stdout",
          "text": [
            "Command-Line Calculator\n",
            "Type 'exit' to quit\n",
            "Enter your expression: 2+3-(5*4/3)\n",
            "Result: -1.666666666666667\n",
            "Enter your expression: 5*8-(3^2)\n",
            "Result: 31.0\n",
            "Enter your expression: mod(9)\n",
            "Result: (0.0, 9.0)\n",
            "Enter your expression: sqrt(16)\n",
            "Result: 4.0\n",
            "Enter your expression: 4/0\n",
            "Result: Error: Division by zero not allowed\n",
            "Enter your expression: exit\n",
            "Exiting. Goodbye!\n"
          ]
        }
      ]
    },
    {
      "cell_type": "code",
      "source": [
        "#Implementation using in-built eval() method\n",
        "import math\n",
        "\n",
        "def calculate(expression):\n",
        "    try:\n",
        "        result = eval(expression)\n",
        "        return result\n",
        "    except ZeroDivisionError:\n",
        "        return \"Error: Division by zero not allowed\"\n",
        "    except SyntaxError:\n",
        "        return \"Error: Invalid expression! Enter valid expression\"\n",
        "\n",
        "def main():\n",
        "    print(\"Command-Line Calculator\")\n",
        "    print(\"Type 'exit' to quit\")\n",
        "\n",
        "    while True:\n",
        "        user_input = input(\"Enter your expression: \")\n",
        "\n",
        "        if user_input.lower() == 'exit':\n",
        "            print(\"Exiting. Goodbye!\")\n",
        "            break\n",
        "\n",
        "        result = calculate(user_input)\n",
        "        print(\"Result:\", result)\n",
        "\n",
        "if __name__ == \"__main__\":\n",
        "    main()"
      ],
      "metadata": {
        "colab": {
          "base_uri": "https://localhost:8080/"
        },
        "id": "swhSgFr1A9Wa",
        "outputId": "15f87d67-3b28-4ce0-dc33-7a2a416903ae"
      },
      "execution_count": null,
      "outputs": [
        {
          "output_type": "stream",
          "name": "stdout",
          "text": [
            "Command-Line Calculator\n",
            "Type 'exit' to quit\n",
            "Enter your expression: 2+9-1/4*8\n",
            "Result: 9.0\n",
            "Enter your expression: (2+9-(1/4*(2-3))\n",
            "Result: Error: Invalid expression! Enter valid expression\n",
            "Enter your expression: (2+9-(7/3))\n",
            "Result: 8.666666666666666\n",
            "Enter your expression: 8**9\n",
            "Result: 134217728\n",
            "Enter your expression: 6%4\n",
            "Result: 2\n",
            "Enter your expression: 6%7\n",
            "Result: 6\n",
            "Enter your expression: 8/0\n",
            "Result: Error: Division by zero not allowed\n",
            "Enter your expression: exit\n",
            "Exiting. Goodbye!\n"
          ]
        }
      ]
    },
    {
      "cell_type": "markdown",
      "metadata": {
        "id": "z3tBE7E-Xn5X"
      },
      "source": [
        "# Question 5 (30 points).\n",
        "\n",
        "In the field of Data Science, data is often formatted as a comma-delimited (CSV) file, where each line in a file corresponds to a field's value. Refer to Chapter 9 (p. 106) for more information on comma-delimited files.\n",
        "\n",
        "To answer this question, you will need to download the file [Assignment1_denton_housing.csv](https://raw.githubusercontent.com/unt-iialab/info5731-spring2022/main/assignments/Assignment1_denton_housing.csv) included with this assignment. The file contains statistics about housing in the city of Denton from 2008 to 2014. Write a program to implement the following questions.\n",
        "\n",
        "(a) (5 pts) Calculate the difference in the number of Occupied Housing Units from year to year and print it. The difference must be calculated for the consecutive years such as 2008-2009, 2009-2010 etc. Finally, print the values in the ascending order.\n",
        "\n",
        "(b) (5 pts) For all the years, calculate the percentage of housing units which are vacant an occupied. Print the results in the following format:\n",
        "\n",
        "Year Vacant Housing Units Occupied Housing Units\n",
        "\n",
        "    2008  30%   70%                          \n",
        "\t2009 ----- -----\n",
        "\t2010 ----- -----\n",
        "    2011 ----- -----\n",
        "\t2012 ----- -----\n",
        "    2013 ----- -----\n",
        "\t2014 ----- -----\n",
        "  \n",
        "  \n",
        "\n",
        "(c) (10 pts) Calculate and print the valued and years in which the highest number of housing units were vacant and occupied. Print the results in the following format:  \n",
        "\n",
        "                              Year\tValue\n",
        "\tVacant Housing Units\t  -----   -----\n",
        "\tOccupied Housing Units\t-----   -----\n",
        "\n",
        "(d) (10 pts) Calculate the harmonic mean of the total housing units and print it out. You can find the information about harmonic mean here: https://ncalculators.com/statistics/harmonic-mean-calculator.htm"
      ]
    },
    {
      "cell_type": "code",
      "execution_count": null,
      "metadata": {
        "id": "lqGYuHBhcsRH",
        "colab": {
          "base_uri": "https://localhost:8080/"
        },
        "outputId": "3f402d37-7b9f-442a-e83a-4b84071c5d28"
      },
      "outputs": [
        {
          "output_type": "stream",
          "name": "stdout",
          "text": [
            "2008 - 2009: 795\n",
            "2009 - 2010: 5091\n",
            "2010 - 2011: 303\n",
            "2011 - 2012: 1404\n",
            "2012 - 2013: 1565\n",
            "2013 - 2014: 2622\n"
          ]
        }
      ],
      "source": [
        " # Your code here\n",
        " # a)\n",
        "\n",
        "import pandas as pd\n",
        "import warnings\n",
        "warnings.filterwarnings('ignore')\n",
        "df = pd.read_csv('/content/Assignment1_denton_housing-1.csv')\n",
        "#df\n",
        "df = df.sort_values(by='year')\n",
        "df1 = df[df['title_field'] == 'Occupied Housing Units']\n",
        "df1['Difference'] = df1['value'].diff()\n",
        "df1 = df1.dropna()\n",
        "df2 = pd.DataFrame()\n",
        "\n",
        "for index, row in df1.iterrows():\n",
        "\n",
        "    # dict1[{int(row['year'])-1} - {int(row['year']+1)-1}] = {abs(int(row['Difference']))}\n",
        "    print(f\"{int(row['year'])-1} - {int(row['year']+1)-1}: {abs(int(row['Difference']))}\")"
      ]
    },
    {
      "cell_type": "code",
      "source": [
        "# b)\n",
        "\n",
        "df3 = df.groupby(['year', 'title_field'])['value'].sum().reset_index()\n",
        "#df4 = df3.groupby(['year'])['value'].sum().reset_index()\n",
        "df4 = df3[df3['title_field']=='Total Housing Units']\n",
        "cols = ['year', 'value']\n",
        "df4 = df4[cols]\n",
        "df5 = df3[df3['title_field']=='Occupied Housing Units']\n",
        "df5 = df5[cols]\n",
        "df6 = df3[df3['title_field']=='Vacant Housing Units']\n",
        "df6 = df6[cols]\n",
        "\n",
        "df7 = pd.merge(df4, df5, on='year')\n",
        "df7 = pd.merge(df7, df6, on='year')\n",
        "\n",
        "print(\"Year\\tVacant Housing Units\\tOccupied Housing Units\")\n",
        "for index, row in df7.iterrows():\n",
        "    print(f\"{int(row['year'])} \\t {int(row['value'])/int(row['value_x'])*100:.3f}{'%'} \\t\\t\\t {int(row['value_y'])/int(row['value_x'])*100:.3f}{'%'}\")"
      ],
      "metadata": {
        "colab": {
          "base_uri": "https://localhost:8080/"
        },
        "id": "ztCIpQBcC0nP",
        "outputId": "d155463d-f615-4da4-96ea-48098c391dae"
      },
      "execution_count": null,
      "outputs": [
        {
          "output_type": "stream",
          "name": "stdout",
          "text": [
            "Year\tVacant Housing Units\tOccupied Housing Units\n",
            "2008 \t 10.883% \t\t\t 89.117%\n",
            "2009 \t 9.071% \t\t\t 90.929%\n",
            "2010 \t 8.143% \t\t\t 91.857%\n",
            "2011 \t 9.380% \t\t\t 90.620%\n",
            "2012 \t 6.678% \t\t\t 93.322%\n",
            "2013 \t 8.802% \t\t\t 91.198%\n",
            "2014 \t 5.730% \t\t\t 94.270%\n"
          ]
        }
      ]
    },
    {
      "cell_type": "code",
      "source": [
        "# c)\n",
        "\n",
        "#Dataframe with Occupied Housing Units\n",
        "df5\n",
        "max=0\n",
        "for index, row in df5.iterrows():\n",
        "  if max < int(row['value']):\n",
        "    max = int(row['value'])\n",
        "    year = int(row['year'])\n"
      ],
      "metadata": {
        "id": "CMjgWc5ALUvH"
      },
      "execution_count": null,
      "outputs": []
    },
    {
      "cell_type": "code",
      "source": [
        "#Dataframe with Vacant Housing Units\n",
        "df6\n",
        "max1=0\n",
        "for index, row in df6.iterrows():\n",
        "  if max1 < int(row['value']):\n",
        "    max1 = int(row['value'])\n",
        "    year1 = int(row['year'])"
      ],
      "metadata": {
        "id": "bEi0crBSLU4U"
      },
      "execution_count": null,
      "outputs": []
    },
    {
      "cell_type": "code",
      "source": [
        "\n",
        "print(\"\\t\\t\\tYear\\tValue\")\n",
        "print(\"Vacant Housing Units\\t\" + str(year1) + \"\\t\" + str(max1))\n",
        "print(\"Occupied Housing Units\\t\"  + str(year) + \"\\t\" + str(max))"
      ],
      "metadata": {
        "colab": {
          "base_uri": "https://localhost:8080/"
        },
        "id": "KiTo599sLU73",
        "outputId": "a630db44-08db-40fe-d5e6-cf1dd1bfd011"
      },
      "execution_count": null,
      "outputs": [
        {
          "output_type": "stream",
          "name": "stdout",
          "text": [
            "\t\t\tYear\tValue\n",
            "Vacant Housing Units\t2008\t4483\n",
            "Occupied Housing Units\t2014\t46295\n"
          ]
        }
      ]
    },
    {
      "cell_type": "code",
      "source": [
        "# d)\n",
        "# Dataframe with Total Housing Units\n",
        "df4\n",
        "valList = df4['value'].tolist()\n",
        "valList"
      ],
      "metadata": {
        "colab": {
          "base_uri": "https://localhost:8080/"
        },
        "id": "17dthZiwLVBl",
        "outputId": "3420379d-acfe-4ac0-adac-233394c1487c"
      },
      "execution_count": null,
      "outputs": [
        {
          "output_type": "execute_result",
          "data": {
            "text/plain": [
              "[41194, 39499, 44642, 44917, 45121, 47888, 49109]"
            ]
          },
          "metadata": {},
          "execution_count": 167
        }
      ]
    },
    {
      "cell_type": "code",
      "source": [
        "def harmonicMean(list):\n",
        "\n",
        "    reciprocal_sum = sum(1 / x for x in list)\n",
        "    harmonic_mean_value = len(list) / reciprocal_sum\n",
        "    return harmonic_mean_value\n",
        "\n",
        "result = harmonicMean(valList)\n",
        "print(f\"The harmonic mean of total housing units is: {result:.2f}\")"
      ],
      "metadata": {
        "colab": {
          "base_uri": "https://localhost:8080/"
        },
        "id": "9PrXW6i_P2sk",
        "outputId": "c7f59834-ea68-48f5-e45d-f0133ebcbbe7"
      },
      "execution_count": null,
      "outputs": [
        {
          "output_type": "stream",
          "name": "stdout",
          "text": [
            "The harmonic mean of total housing units is: 44398.29\n"
          ]
        }
      ]
    },
    {
      "cell_type": "markdown",
      "source": [
        "# Mandatory Question\n",
        "\n",
        "Provide your thoughts on the assignment. What did you find challenging, and what aspects did you enjoy? Your opinion on the provided time to complete the assignment. Share any suggestions for improvement. Your feedback will be valuable for enhancing the learning experience."
      ],
      "metadata": {
        "id": "q8BFCvWp32cf"
      }
    },
    {
      "cell_type": "code",
      "source": [],
      "metadata": {
        "id": "clwNbQI0axWy"
      },
      "execution_count": null,
      "outputs": []
    },
    {
      "cell_type": "code",
      "source": [
        "# Write your response below\n",
        "# This assignment was a good hands-on learning experience. It helped me to strenghthen my concepts, explore and practise on different Python functions and libraries.\n",
        "# It also helped me to learn to code in an interactive and structured way.\n",
        "# I enjoyed coding the string problems.\n",
        "# A few more days for the assignment would be more rewarding in my belief.\n",
        "# Share prior if we could use in-built Python libraries and functions for some problems."
      ],
      "metadata": {
        "id": "_e557s2w4BpK"
      },
      "execution_count": null,
      "outputs": []
    },
    {
      "cell_type": "code",
      "source": [],
      "metadata": {
        "id": "EbuW91hzK7os"
      },
      "execution_count": null,
      "outputs": []
    }
  ],
  "metadata": {
    "colab": {
      "provenance": [],
      "include_colab_link": true
    },
    "kernelspec": {
      "display_name": "Python 3 (ipykernel)",
      "language": "python",
      "name": "python3"
    },
    "language_info": {
      "codemirror_mode": {
        "name": "ipython",
        "version": 3
      },
      "file_extension": ".py",
      "mimetype": "text/x-python",
      "name": "python",
      "nbconvert_exporter": "python",
      "pygments_lexer": "ipython3",
      "version": "3.9.12"
    }
  },
  "nbformat": 4,
  "nbformat_minor": 0
}