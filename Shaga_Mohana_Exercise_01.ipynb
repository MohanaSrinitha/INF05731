{
  "cells": [
    {
      "cell_type": "markdown",
      "metadata": {
        "id": "view-in-github",
        "colab_type": "text"
      },
      "source": [
        "<a href=\"https://colab.research.google.com/github/MohanaSrinitha/INF05731/blob/main/Shaga_Mohana_Exercise_01.ipynb\" target=\"_parent\"><img src=\"https://colab.research.google.com/assets/colab-badge.svg\" alt=\"Open In Colab\"/></a>"
      ]
    },
    {
      "cell_type": "markdown",
      "metadata": {
        "id": "DymRJbxDBCnf"
      },
      "source": [
        "# **This first In-class-exercise cover a variety of fundamental concepts in Python and are designed to help individuals improve their coding skills and problem-solving abilities.**\n",
        "\n",
        "The submission is due on 01/31/2024 11:59 PM. This submission is worth 40 points in total.\n"
      ]
    },
    {
      "cell_type": "markdown",
      "source": [
        "(1) Write a Python program that  prompts the user to input the length and width of a rectangle, and then calculates and displays the area of the rectangle."
      ],
      "metadata": {
        "id": "FBKvD6O_TY6e"
      }
    },
    {
      "cell_type": "code",
      "source": [
        "# length and width of a rectangle\n",
        "length = float(input(\"Enter the length of the rectangle: \"))\n",
        "width = float(input(\"Enter the width of the rectangle: \"))\n",
        "#calculate the area of the rectangle\n",
        "area = length * width\n",
        "#print the final value\n",
        "print (\"The area of the rectangle is\", area)"
      ],
      "metadata": {
        "id": "cikVKDXdTbzE",
        "colab": {
          "base_uri": "https://localhost:8080/"
        },
        "outputId": "c7dd7097-cc97-4687-afa4-82d670abe424"
      },
      "execution_count": 1,
      "outputs": [
        {
          "output_type": "stream",
          "name": "stdout",
          "text": [
            "Enter the length of the rectangle: 13\n",
            "Enter the width of the rectangle: 24\n",
            "The area of the rectangle is 312.0\n"
          ]
        }
      ]
    },
    {
      "cell_type": "markdown",
      "source": [
        "(2) Create a Python program that interactively takes two numerical inputs from the user and swaps their values without utilizing an extra variable."
      ],
      "metadata": {
        "id": "E9RqrlwdTfvl"
      }
    },
    {
      "cell_type": "code",
      "source": [
        "# write your answer here\n",
        "num1 = float(input(\"Enter the first number: \"))\n",
        "num2 = float(input(\"Enter the second number: \"))\n",
        "#swap the values without using a extra variable\n",
        "num1, num2 = num2, num1\n",
        "#print the values\n",
        "\n",
        "print(\"The value of num1 after swapping: \", num1)\n",
        "print(\"The value of num2 after swapping: \", num2)"
      ],
      "metadata": {
        "id": "4XvRknixTh1g",
        "colab": {
          "base_uri": "https://localhost:8080/"
        },
        "outputId": "49da0818-2e7d-4549-aba3-ca78248aaa4f"
      },
      "execution_count": 2,
      "outputs": [
        {
          "output_type": "stream",
          "name": "stdout",
          "text": [
            "Enter the first number: 3\n",
            "Enter the second number: 4\n",
            "The value of num1 after swapping:  4.0\n",
            "The value of num2 after swapping:  3.0\n"
          ]
        }
      ]
    },
    {
      "cell_type": "markdown",
      "metadata": {
        "id": "03jb4GZsBkBS"
      },
      "source": [
        "(3) Write a Python script to determine and print the length of a user-input string."
      ]
    },
    {
      "cell_type": "code",
      "execution_count": 3,
      "metadata": {
        "id": "YaGLbSHHB8Ej",
        "colab": {
          "base_uri": "https://localhost:8080/"
        },
        "outputId": "0122943e-c7f7-4fd3-d937-f96eab5f5fc1"
      },
      "outputs": [
        {
          "output_type": "stream",
          "name": "stdout",
          "text": [
            "Enter a string: 5\n",
            "The value of input string is 1\n"
          ]
        }
      ],
      "source": [
        "# prompt user to input a string\n",
        "user_input = input((\"Enter a string: \"))\n",
        "#print the length of a string\n",
        "print(\"The value of input string is\", len(user_input))\n"
      ]
    },
    {
      "cell_type": "markdown",
      "metadata": {
        "id": "jJDe71iLB616"
      },
      "source": [
        "(4) Construct a Python program that counts and displays the occurrences of each character in a given string.\n",
        "\n",
        "Sample String: 'openai.ai',\n",
        "\n",
        "Expected Result: {'a': 2, 'i': 2, '.': 1, 'o': 1, 'p': 1, 'e': 1, 'n': 1}"
      ]
    },
    {
      "cell_type": "code",
      "execution_count": 4,
      "metadata": {
        "id": "MtKskTzbCLaU",
        "colab": {
          "base_uri": "https://localhost:8080/"
        },
        "outputId": "2430f485-8a5a-4459-dde1-f9c696d1e0ed"
      },
      "outputs": [
        {
          "output_type": "stream",
          "name": "stdout",
          "text": [
            "Occurrences of each character in a given string: {'o': 1, 'p': 1, 'e': 1, 'n': 1, 'a': 2, 'i': 2, '.': 1}\n"
          ]
        }
      ],
      "source": [
        "# occurrences of each charcater in given string\n",
        "\n",
        "def count_characters(input_string):\n",
        "    frequency = {}\n",
        "    #frequency of each character in a stroing\n",
        "    for  char in input_string:\n",
        "         if char in frequency:\n",
        "             frequency[char] += 1\n",
        "         else:\n",
        "             frequency[char] = 1\n",
        "    return frequency\n",
        "input_str = 'openai.ai'\n",
        "\n",
        "result = count_characters(input_str)\n",
        "print(\"Occurrences of each character in a given string:\", result)\n"
      ]
    },
    {
      "cell_type": "markdown",
      "metadata": {
        "id": "55W9AMdXCSpV"
      },
      "source": [
        "(5) Design a Python code to calculate the sum of all elements in a user-provided list."
      ]
    },
    {
      "cell_type": "code",
      "execution_count": 5,
      "metadata": {
        "id": "I57NXsauCec2",
        "colab": {
          "base_uri": "https://localhost:8080/"
        },
        "outputId": "f0974e8e-8e65-41da-ec0b-6e1f296c9dc8"
      },
      "outputs": [
        {
          "output_type": "stream",
          "name": "stdout",
          "text": [
            "Enter a list of numbers separated by spaces: 5\n",
            "The sum of elements in list is 5\n"
          ]
        }
      ],
      "source": [
        "# prompt user to input list of number\n",
        "user_list = input(\"Enter a list of numbers separated by spaces: \")\n",
        "#string into input list of numbers\n",
        "numbers = list(map(int, user_list.split()))\n",
        "total = sum(numbers)\n",
        "print(\"The sum of elements in list is\", total)\n"
      ]
    },
    {
      "cell_type": "markdown",
      "metadata": {
        "id": "4ulBZ6yhCi9F"
      },
      "source": [
        "(6) Write a Python program that modifies a given string by replacing all occurrences of its first character with '$', excluding the first character itself.\n",
        "\n",
        "\n",
        "Sample String : 'restart‘,\n",
        "\n",
        "Expected Result : 'resta\\$t'"
      ]
    },
    {
      "cell_type": "code",
      "execution_count": 6,
      "metadata": {
        "id": "Fj0XhwbBCw2o",
        "colab": {
          "base_uri": "https://localhost:8080/"
        },
        "outputId": "4c16b697-264d-453c-9eb3-8fa699e89b60"
      },
      "outputs": [
        {
          "output_type": "stream",
          "name": "stdout",
          "text": [
            "Modified String: resta$t\n"
          ]
        }
      ],
      "source": [
        "# write your answer here\n",
        "def replace_first_char(input_string):\n",
        "    first_char = input_string[0]\n",
        "    modified_string = first_char + input_string[1:].replace(first_char, '$')\n",
        "    return modified_string\n",
        "\n",
        "#sample string\n",
        "input_str = 'restart'\n",
        "\n",
        "result = replace_first_char(input_str)\n",
        "print(\"Modified String:\", result)\n",
        "\n",
        "\n"
      ]
    },
    {
      "cell_type": "markdown",
      "source": [
        "(7) Write a Python program using a while loop to compute the factorial of a user-supplied number."
      ],
      "metadata": {
        "id": "qVXA3q7ET5JI"
      }
    },
    {
      "cell_type": "code",
      "source": [
        "# write your answer here\n",
        "num = int(input(\"Enter a number: \"))\n",
        "# factorial value\n",
        "factorial = 1\n",
        "#factorial using while loop\n",
        "while num > 0:\n",
        "     factorial *= num\n",
        "     num -= 1\n",
        "\n",
        "print(\"The factorial of the given number is\", factorial)"
      ],
      "metadata": {
        "id": "Lbt7R6UkT7BA",
        "colab": {
          "base_uri": "https://localhost:8080/"
        },
        "outputId": "0e297d7c-e66f-4dcc-dc14-e3ac712fcf96"
      },
      "execution_count": 7,
      "outputs": [
        {
          "output_type": "stream",
          "name": "stdout",
          "text": [
            "Enter a number: 56\n",
            "The factorial of the given number is 710998587804863451854045647463724949736497978881168458687447040000000000000\n"
          ]
        }
      ]
    },
    {
      "cell_type": "markdown",
      "source": [
        "(8) Create a program that accepts a list of numbers as input and outputs a new list containing only the even numbers."
      ],
      "metadata": {
        "id": "6YfbzXMNT--R"
      }
    },
    {
      "cell_type": "code",
      "source": [
        "# input a list of numbers\n",
        "user_input = input(\"Enter a list of numbers separated by spaces: \")\n",
        "numbers = list(map(int, user_input.split()))\n",
        "# a new list only with a even numbers\n",
        "even_numbers = (num for num in numbers if num % 2 == 0)\n",
        "\n",
        "print (\"The even numbers in the list are:\", list(even_numbers))"
      ],
      "metadata": {
        "id": "54q7wMQPUAKu",
        "colab": {
          "base_uri": "https://localhost:8080/"
        },
        "outputId": "cd4bee07-3b40-40bf-f731-976759e305c1"
      },
      "execution_count": 40,
      "outputs": [
        {
          "output_type": "stream",
          "name": "stdout",
          "text": [
            "Enter a list of numbers separated by spaces: 4 7 8\n",
            "The even numbers in the list are: [4, 8]\n"
          ]
        }
      ]
    },
    {
      "cell_type": "markdown",
      "metadata": {
        "id": "_bIP7s1MCzue"
      },
      "source": [
        "\n",
        "(9) Design a Python function to check if a number is prime.\n"
      ]
    },
    {
      "cell_type": "code",
      "execution_count": 10,
      "metadata": {
        "id": "w79QilHXD3Mg",
        "colab": {
          "base_uri": "https://localhost:8080/"
        },
        "outputId": "8dd35217-8f7d-4980-e001-d3d8dfc543ad"
      },
      "outputs": [
        {
          "output_type": "stream",
          "name": "stdout",
          "text": [
            "Enter a number to check if it's prime: 5\n",
            "5 is a prime number.\n"
          ]
        }
      ],
      "source": [
        "def is_prime(number):\n",
        "    if number <= 1:\n",
        "        return False\n",
        "    elif number <= 3:\n",
        "        return True\n",
        "    elif number % 2 == 0 or number % 3 == 0:\n",
        "        return False\n",
        "    else:\n",
        "\n",
        "       i = 5\n",
        "       while i * i <= number:\n",
        "            if number % i == 0 or number % (i + 2) == 0:\n",
        "                return False\n",
        "            i += 6\n",
        "       return True\n",
        "\n",
        "number_to_check = int(input(\"Enter a number to check if it's prime: \"))\n",
        "if is_prime(number_to_check):\n",
        "    print(f\"{number_to_check} is a prime number.\")\n",
        "else:\n",
        "    print(f\"{number_to_check} is not a prime number.\")\n",
        "\n",
        "\n",
        "\n",
        "\n"
      ]
    },
    {
      "cell_type": "markdown",
      "metadata": {
        "id": "xCa2bK9aD4Q3"
      },
      "source": [
        "(10) Write a Python program to concatenate following dictionaries to create a new one.\n",
        "\n",
        "Sample Dictionary : dic1={1:10, 2:20}, dic2={3:30, 4:40}, dic3={5:50,6:60},\n",
        "\n",
        "Expected Result : {1: 10, 2: 20, 3: 30, 4: 40, 5: 50, 6: 60}\n"
      ]
    },
    {
      "cell_type": "code",
      "execution_count": 11,
      "metadata": {
        "id": "_z4aLqAbEET1",
        "colab": {
          "base_uri": "https://localhost:8080/"
        },
        "outputId": "c01aeb29-4f4c-4f6a-89a3-394d3a90be44"
      },
      "outputs": [
        {
          "output_type": "stream",
          "name": "stdout",
          "text": [
            "{1: 10, 2: 30, 4: 40, 5: 50, 6: 60}\n"
          ]
        }
      ],
      "source": [
        "# create dictionaries\n",
        "dict1 = {1: 10, 2: 20}\n",
        "dict2 = {2: 30, 4: 40}\n",
        "dict3 = {5: 50, 6: 60}\n",
        "\n",
        "result_dict = {**dict1, **dict2, **dict3}\n",
        "\n",
        "#print result\n",
        "print(result_dict)\n",
        "\n"
      ]
    },
    {
      "cell_type": "markdown",
      "source": [
        "(11) Design a Python function that takes a tuple of integers as input and returns the largest and smallest elements."
      ],
      "metadata": {
        "id": "bkyZ2xSZUOst"
      }
    },
    {
      "cell_type": "code",
      "source": [
        "# write your answer here\n",
        "def find_largest_smallest(input_tuple):\n",
        "    smallest = min(input_tuple)\n",
        "    largest = max(input_tuple)\n",
        "    return smallest,largest\n",
        "\n",
        "input_tuple = (4, 1, 4, 5, 7, 9, 2, 6, 8, 5, 3)\n",
        "smallest, largest = find_largest_smallest(input_tuple)\n",
        "#print final values\n",
        "print(\"The smallest value is:\", smallest)\n",
        "print(\"The largest value is:\", largest)"
      ],
      "metadata": {
        "id": "3FdLRBKOUQEd",
        "colab": {
          "base_uri": "https://localhost:8080/"
        },
        "outputId": "f78e47dd-25e2-4365-92c2-92c7615a599f"
      },
      "execution_count": 12,
      "outputs": [
        {
          "output_type": "stream",
          "name": "stdout",
          "text": [
            "The smallest value is: 1\n",
            "The largest value is: 9\n"
          ]
        }
      ]
    },
    {
      "cell_type": "markdown",
      "source": [
        "(12) Write a Python program that counts the frequency of each character in a given string and stores it in a dictionary."
      ],
      "metadata": {
        "id": "O0TVi3gKUTpp"
      }
    },
    {
      "cell_type": "code",
      "source": [
        "# write your answer here\n",
        "user_input = input(\"Enter a string\")\n",
        "\n",
        "frequency = {}\n",
        "# frequency of each character\n",
        "for char in user_input:\n",
        "    if char in frequency:\n",
        "       frequency[char] += 1\n",
        "    else:\n",
        "       frequency[char] = 1\n",
        "#print the values\n",
        "print(\"The frequency of each character in the string is:\", frequency)\n"
      ],
      "metadata": {
        "id": "lAtfSfZXUU-h",
        "colab": {
          "base_uri": "https://localhost:8080/"
        },
        "outputId": "0a5e15f7-e0d3-4de8-b3c7-3ac85bd4957b"
      },
      "execution_count": 31,
      "outputs": [
        {
          "output_type": "stream",
          "name": "stdout",
          "text": [
            "Enter a string34\n",
            "The frequency of each character in the string is: {'3': 1, '4': 1}\n"
          ]
        }
      ]
    },
    {
      "cell_type": "markdown",
      "metadata": {
        "id": "0v48Vqa7FrQh"
      },
      "source": [
        "(13) Implement a Python script to identify duplicate elements in a provided array of integers. Return -1 if there are no duplicates."
      ]
    },
    {
      "cell_type": "code",
      "execution_count": 29,
      "metadata": {
        "id": "7WEmgq-DF2P1",
        "colab": {
          "base_uri": "https://localhost:8080/"
        },
        "outputId": "9da601e3-0c6a-4ab0-f1a2-d21bf7e0e211"
      },
      "outputs": [
        {
          "output_type": "stream",
          "name": "stdout",
          "text": [
            "Duplicate elements: [1, 5]\n"
          ]
        }
      ],
      "source": [
        "# write your answer here\n",
        "def find_duplicates(arr):\n",
        "  seen = set()\n",
        "  duplicates = set(x for x in arr if x in seen or seen.add(x))\n",
        "  return list(duplicates) if duplicates else -1\n",
        "\n",
        "arr = [5, 1, 2, 4, 5, 6, 3, 9, 1, 7 ]\n",
        "\n",
        "#print duplicate values\n",
        "\n",
        "result = find_duplicates(arr)\n",
        "print(\"Duplicate elements:\", result)\n"
      ]
    },
    {
      "cell_type": "markdown",
      "metadata": {
        "id": "vD5PYLMuGga_"
      },
      "source": [
        "(14) Write a Python script to find the common elements between two lists."
      ]
    },
    {
      "cell_type": "code",
      "execution_count": 16,
      "metadata": {
        "id": "t0D5kdJUGjjw",
        "colab": {
          "base_uri": "https://localhost:8080/"
        },
        "outputId": "08b471e5-bfdc-4faa-f308-ddbbc53b4124"
      },
      "outputs": [
        {
          "output_type": "stream",
          "name": "stdout",
          "text": [
            "The common elments are: {3, 4, 6}\n"
          ]
        }
      ],
      "source": [
        "#\n",
        "def common_elements(list1, list2):\n",
        "    common = set(list1) & set(list2)\n",
        "    return common\n",
        "list1 = [1, 4, 6, 3, 8, 2]\n",
        "list2 = [9, 7, 4, 6, 3, 0]\n",
        "result = common_elements(list1,list2)\n",
        "print(\"The common elments are:\", result)\n",
        "\n",
        "\n"
      ]
    },
    {
      "cell_type": "markdown",
      "metadata": {
        "id": "uHkd-y5VhVWC"
      },
      "source": [
        "(15) Write a Python program to randomly divide the students in this class into six groups for term projects, each group should have at least 4 students but no more than 6 students (including 6).\n",
        "\n",
        "Here is the students list:\n",
        "\n",
        "student_list_spring_2024=[rb0846,\n",
        "ac1964,\n",
        "hc0612,\n",
        "md0912,\n",
        "ad1198,\n",
        "md0894,\n",
        "md0825,\n",
        "vg0598,\n",
        "vg0433,\n",
        "mh1068,\n",
        "yj0173,\n",
        "pk0553,\n",
        "tk0411,\n",
        "srk0204,\n",
        "sk2922,\n",
        "sk2936,\n",
        "mk1302,\n",
        "mk1317,\n",
        "tk0412,\n",
        "vk0656,\n",
        "sm2985,\n",
        "mm2372,\n",
        "un0045,\n",
        "an0892,\n",
        "sn0913,\n",
        "gp0252,\n",
        "ap1484,\n",
        "mr1765,\n",
        "sr1385,\n",
        "sr1335,\n",
        "hs0665,\n",
        "ms2060,\n",
        "gt0217,\n",
        "nt0385,\n",
        "tv0186,\n",
        "sv1394,\n",
        "sv1752,\n",
        "sv1555,\n",
        "sy0594\n",
        "]\n"
      ]
    },
    {
      "cell_type": "code",
      "execution_count": 28,
      "metadata": {
        "id": "3iGbmcOBhTwy",
        "colab": {
          "base_uri": "https://localhost:8080/"
        },
        "outputId": "0e6e58d8-8b76-41f9-b676-7a7640ccf592"
      },
      "outputs": [
        {
          "output_type": "stream",
          "name": "stdout",
          "text": [
            "group 1: mh1068,sk2922,vg0598,tk0412\n",
            "group 2: sy0594,sr1385,an0892,ad1198\n",
            "group 3: sm2985,tk0411,md0912,mk1302\n",
            "group 4: un0045,yj0173,vk0656,rb0846\n",
            "group 5: pk0553,gt0217,md0825,sv1394\n",
            "group 6: ap1484,sn0913,mm2372,gp0252\n",
            "group 7: ms2060,md0894,sk2936,hc0612\n",
            "group 8: hs0665,sv1555,tv0186,mk1317,mr1765,srk0204\n",
            "group 9: sr1335,vg0433,ac1964,sv1752,nt0385\n"
          ]
        }
      ],
      "source": [
        "# write your answer here\n",
        "import random\n",
        "\n",
        "def divide_students_into_groups(student_list):\n",
        "    random.shuffle(student_list)\n",
        "    groups = [student_list[i:i + 4] for i in range(0, len(student_list), 4)]\n",
        "    if len(groups[-1]) < 4:\n",
        "       last_group = groups.pop()\n",
        "       for student in last_group:\n",
        "           random.choice(groups).append(student)\n",
        "    return groups\n",
        "\n",
        "#list of students\n",
        "student_list_spring_2024 = ['rb0846', 'ac1964', 'hc0612', 'md0912', 'ad1198', 'md0894', 'md0825', 'vg0598', 'vg0433', 'mh1068', 'yj0173', 'pk0553', 'tk0411', 'srk0204', 'sk2922', 'sk2936', 'mk1302', 'mk1317', 'tk0412', 'vk0656', 'sm2985', 'mm2372', 'un0045', 'an0892', 'sn0913', 'gp0252', 'ap1484', 'mr1765', 'sr1385', 'sr1335', 'hs0665', 'ms2060', 'gt0217', 'nt0385', 'tv0186', 'sv1394', 'sv1752', 'sv1555', 'sy0594']\n",
        "\n",
        "student_groups = divide_students_into_groups(student_list_spring_2024)\n",
        "\n",
        "#print the groups\n",
        "for i, group in enumerate(student_groups):\n",
        "     print(f\"group {i + 1}: {','.join(group)}\")\n",
        "\n"
      ]
    },
    {
      "cell_type": "markdown",
      "metadata": {
        "id": "fmZ9vX20Qs3d"
      },
      "source": [
        "(16) Create a program that takes a positive integer 'n' as input and prints the count of even numbers from 1 to 'n'. Optimize the loop using the break statement."
      ]
    },
    {
      "cell_type": "code",
      "execution_count": 18,
      "metadata": {
        "id": "W8Jw6sWMQs3d",
        "colab": {
          "base_uri": "https://localhost:8080/"
        },
        "outputId": "4183501e-a271-4231-d2af-eae4a1070edf"
      },
      "outputs": [
        {
          "output_type": "stream",
          "name": "stdout",
          "text": [
            "Enter a positive intege: 2\n",
            "The count of even numbers 1 to 2 is 1\n"
          ]
        }
      ],
      "source": [
        "# count of even numbers\n",
        "def count_even_number(n):\n",
        "    count = 0\n",
        "    for i in range (1, n + 1):\n",
        "        if i % 2 == 0:\n",
        "           count += 1\n",
        "    return count\n",
        "\n",
        "#input positive integer\n",
        "n = int(input(\"Enter a positive intege: \"))\n",
        "\n",
        "print(\"The count of even numbers 1 to\", n, \"is\", count_even_number(n))\n"
      ]
    },
    {
      "cell_type": "markdown",
      "metadata": {
        "id": "hvq4APMhQs3d"
      },
      "source": [
        "(17) Develop a Python function called 'count_vowels' that takes a string as input and returns the count of vowels (both lowercase and uppercase) present in the string, ignoring spaces and non-alphabetic characters."
      ]
    },
    {
      "cell_type": "code",
      "execution_count": 19,
      "metadata": {
        "id": "ZnoxhSglQs3d",
        "colab": {
          "base_uri": "https://localhost:8080/"
        },
        "outputId": "e94a4d7f-7bf3-43e7-bf64-2584576e8ba3"
      },
      "outputs": [
        {
          "output_type": "stream",
          "name": "stdout",
          "text": [
            "The number of vowles in a string is: 3\n"
          ]
        }
      ],
      "source": [
        "# write your answer here\n",
        "def count_vowels(input_string):\n",
        "    vowels = \"aeiouAEIOU\"\n",
        "    count = 0\n",
        "    for char in input_string:\n",
        "         if char in vowels:\n",
        "            count += 1\n",
        "    return count\n",
        "\n",
        "#example\n",
        "input_str = \"Hey,Hello\"\n",
        "result = count_vowels(input_str)\n",
        "print(\"The number of vowles in a string is:\", result)\n"
      ]
    },
    {
      "cell_type": "markdown",
      "source": [
        "(18) Create a custom exception named ValueTooSmallError in Python. Write a program that takes user input for an age, and if the entered age is less than 18, raise the ValueTooSmallError with an appropriate error message."
      ],
      "metadata": {
        "id": "55FWoSJPVVM6"
      }
    },
    {
      "cell_type": "code",
      "source": [
        "# write your answer here\n",
        "class ValueTooSmallError(Exception):\n",
        "   pass\n",
        "\n",
        "try:\n",
        "  age = int(input(\"Enter your age: \"))\n",
        "  if age < 18:\n",
        "     raise ValueTooSmallError(\"Age should be 18 or greater\")\n",
        "  else:\n",
        "    print(\"valid age entered: \", age)\n",
        "\n",
        "except ValueTooSmallError as e:\n",
        "      print(e)\n",
        "except ValueError:\n",
        "      print(\"Invalid input. Please enter a valid age as a number.\")\n",
        "\n"
      ],
      "metadata": {
        "id": "hwtr1wZmVX5A",
        "colab": {
          "base_uri": "https://localhost:8080/"
        },
        "outputId": "de43851f-8975-4808-eb22-f05ad0f31394"
      },
      "execution_count": 20,
      "outputs": [
        {
          "output_type": "stream",
          "name": "stdout",
          "text": [
            "Enter your age: 23\n",
            "valid age entered:  23\n"
          ]
        }
      ]
    },
    {
      "cell_type": "markdown",
      "source": [
        "(19) Develop a script that reverses a given string without using built-in reverse functions."
      ],
      "metadata": {
        "id": "Q9ecagcaVazW"
      }
    },
    {
      "cell_type": "code",
      "source": [
        "# reverse string\n",
        "def reverse_string(input_string):\n",
        "    reversed_str = ''\n",
        "    for char in input_string:\n",
        "        reversed_str = char + reversed_str\n",
        "    return reversed_str\n",
        "\n",
        "input_str = 'Hello'\n",
        "\n",
        "result = reverse_string(input_str)\n",
        "print(\"Reversed srting:\", result)\n"
      ],
      "metadata": {
        "id": "gycgckoAVZjR",
        "colab": {
          "base_uri": "https://localhost:8080/"
        },
        "outputId": "bd564226-5e76-4e08-f192-c4842f1c8614"
      },
      "execution_count": 21,
      "outputs": [
        {
          "output_type": "stream",
          "name": "stdout",
          "text": [
            "Reversed srting: olleH\n"
          ]
        }
      ]
    },
    {
      "cell_type": "markdown",
      "source": [
        "(20) Implement a Python script to generate a random password of a specified length."
      ],
      "metadata": {
        "id": "ZFG6RibifMLu"
      }
    },
    {
      "cell_type": "code",
      "source": [
        "#\n",
        "import random\n",
        "import string\n",
        "\n",
        "def generate_password(length):\n",
        "    all_characters = string.ascii_letters + string.digits + string.punctuation\n",
        "    # generate password using random characters\n",
        "    password = ''. join(random.choice(all_characters) for i in range(length))\n",
        "    return password\n",
        "\n",
        "password_length = int(input(\"Enter the desired length of the password: \"))\n",
        "\n",
        "#print the result\n",
        "password = generate_password(password_length)\n",
        "print(\"Generated password is:\", password)"
      ],
      "metadata": {
        "id": "BFVrkEi9fNiD",
        "colab": {
          "base_uri": "https://localhost:8080/"
        },
        "outputId": "44cf2a54-8bf1-4a08-fac1-2418654ce182"
      },
      "execution_count": 49,
      "outputs": [
        {
          "output_type": "stream",
          "name": "stdout",
          "text": [
            "Enter the desired length of the password: 8\n",
            "Generated password is: cH=n6cmP\n"
          ]
        }
      ]
    },
    {
      "cell_type": "markdown",
      "source": [
        "# Try these questions:"
      ],
      "metadata": {
        "id": "6SmvS7nSfbj8"
      }
    },
    {
      "cell_type": "markdown",
      "source": [
        "(21) Define a base class called 'Vehicle' with attributes make and model. Create a derived class Car that inherits from Vehicle and has an additional attribute 'num_doors'. Demonstrate an example of creating an instance of the 'Car' class and accessing its attributes."
      ],
      "metadata": {
        "id": "cboAr5pEWUf5"
      }
    },
    {
      "cell_type": "code",
      "source": [
        "# write your answer here\n",
        "class Vehicle:\n",
        "    def __init__(self, make, model):\n",
        "        self.make = make\n",
        "        self.model = model\n",
        "\n",
        "class Car(Vehicle):\n",
        "    def __init__(self, make, model, num_doors):\n",
        "        super().__init__(make, model)\n",
        "        self.num_doors = num_doors\n",
        "\n",
        "#\n",
        "car_instance = Car('Brezza', 'BMW', 4)\n",
        "print(f\"The car's make is: {car_instance.make}\")\n",
        "print(f\"The car's model is: {car_instance.model}\")\n",
        "print(f\"The car has {car_instance.num_doors} doors\")"
      ],
      "metadata": {
        "id": "phs9gciMWWAW",
        "colab": {
          "base_uri": "https://localhost:8080/"
        },
        "outputId": "408de5ca-a515-49e5-dfa6-7927f7e8333f"
      },
      "execution_count": 24,
      "outputs": [
        {
          "output_type": "stream",
          "name": "stdout",
          "text": [
            "The car's make is: Brezza\n",
            "The car's model is: BMW\n",
            "The car has 4 doors\n"
          ]
        }
      ]
    },
    {
      "cell_type": "markdown",
      "source": [
        "(22) Create a class called 'Shape' with a method calculate_area(). Implement two derived classes 'Circle' and 'Rectangle' that inherit from Shape and override the calculate_area() method. Demonstrate polymorphism by creating instances of both derived classes and calling the calculate_area() method."
      ],
      "metadata": {
        "id": "J8HHefNtePwd"
      }
    },
    {
      "cell_type": "code",
      "source": [
        "# write your answer here"
      ],
      "metadata": {
        "id": "btnMmUZDeRhS"
      },
      "execution_count": null,
      "outputs": []
    },
    {
      "cell_type": "markdown",
      "source": [
        "(23) Write a Python program that prompts the user to enter two numbers and perform a division operation. Handle exceptions for both zero division and invalid input (non-numeric input). Display appropriate error messages for each type of exception and ensure the program does not crash due to these errors."
      ],
      "metadata": {
        "id": "z0oqEAlTeMUS"
      }
    },
    {
      "cell_type": "code",
      "source": [
        "# write your answer here\n",
        "def perform_division():\n",
        "    try:\n",
        "       num1 = float(input(\"Enter the first number: \"))\n",
        "       num2 = float(input(\"Enter the second number: \"))\n",
        "       result = num1 / num2\n",
        "       print(\"The result of divison is:\", result)\n",
        "    except ValueError:\n",
        "       print(\"Invalid input. Please enter a valid number.\")\n",
        "    except ZeroDivisionError:\n",
        "       print(\"Error: Division by zero is not allowed.\")\n",
        "\n",
        "perform_division()\n"
      ],
      "metadata": {
        "id": "yjdc1zM1eMAs",
        "colab": {
          "base_uri": "https://localhost:8080/"
        },
        "outputId": "c7d4fc31-7df1-40e3-e605-ae846989b994"
      },
      "execution_count": 51,
      "outputs": [
        {
          "output_type": "stream",
          "name": "stdout",
          "text": [
            "Enter the first number: 6\n",
            "Enter the second number: 5\n",
            "The result of divison is: 1.2\n"
          ]
        }
      ]
    },
    {
      "cell_type": "markdown",
      "source": [
        "# Mandatory Question"
      ],
      "metadata": {
        "id": "sZOhks1dXWEe"
      }
    },
    {
      "cell_type": "markdown",
      "source": [
        "**Important:**\n",
        "Reflecting on the first three lectures and the exercises you've completed, please provide feedback on your learning experience. Share your thoughts on whether the material covered was clear, the exercises were helpful, and if you feel more confident in applying Python programming concepts. Additionally, mention any specific areas where you would like more clarification or topics you would like to explore further in future lectures. Your feedback is valuable in shaping the course for an effective learning journey."
      ],
      "metadata": {
        "id": "eqmHVEwaWhbV"
      }
    },
    {
      "cell_type": "markdown",
      "source": [
        "Write your response here."
      ],
      "metadata": {
        "id": "HlpXOT9wXQAd"
      }
    },
    {
      "cell_type": "code",
      "source": [
        "I would like to provide feedback on the professors and TA. I have learned a lot in these three classes, and my interest in programming has gradually increased during these lectures. Professor Hai Hua is an outstanding communicator, and the invited talks have been particularly helpful. Through these invited talks, We are motivated to discover and learn about various programming languages. Professor Huen's explanations are very clear and the examples provided are simple to understand. Additionally, TA Kaushal's demo sessions are outstanding, and he explains subjects well. The support from TA particularly in terms of being more supportive and helpful in explaining things. The course has been really beneficial to me, and I am confident that the knowledge I have received will help me in the future. However, I understand that additional practice is required to obtain hands-on experience with Python programming."
      ],
      "metadata": {
        "id": "Dq2aOZU7XIke"
      },
      "execution_count": null,
      "outputs": []
    }
  ],
  "metadata": {
    "colab": {
      "provenance": [],
      "include_colab_link": true
    },
    "kernelspec": {
      "display_name": "Python 3 (ipykernel)",
      "language": "python",
      "name": "python3"
    },
    "language_info": {
      "codemirror_mode": {
        "name": "ipython",
        "version": 3
      },
      "file_extension": ".py",
      "mimetype": "text/x-python",
      "name": "python",
      "nbconvert_exporter": "python",
      "pygments_lexer": "ipython3",
      "version": "3.9.12"
    }
  },
  "nbformat": 4,
  "nbformat_minor": 0
}